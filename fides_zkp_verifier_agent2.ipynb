{
 "cells": [
  {
   "cell_type": "code",
   "execution_count": null,
   "id": "2c321f31",
   "metadata": {},
   "outputs": [],
   "source": [
    "# pip install crewai\n",
    "from crewai import Agent, Task, Crew\n",
    "from crewai.tools import tool\n",
    "import os"
   ]
  },
  {
   "cell_type": "code",
   "execution_count": null,
   "id": "2a824821",
   "metadata": {},
   "outputs": [],
   "source": [
    "# The agent asks the user abut its security verification needs. \n",
    "# {Prompt}\n",
    "# The user asks for a searchable item which can be searched on explorer.fidesinnova.io\n",
    "# For example: \n",
    "# 1- Whats the status of device with mac address ending 4BF2\n",
    "# 2- Is there any IoT gateway 2050?\n",
    "# 3- What's the type pf the device with zkmut30 name?\n",
    "# Can I trust a sensor with zkmultisensor92 name?"
   ]
  },
  {
   "cell_type": "code",
   "execution_count": null,
   "id": "54fae37e",
   "metadata": {},
   "outputs": [],
   "source": [
    "# Role, Goal, Backstory, LLm instance, Tool (optional)\n",
    "# ExplorerTool = tool()\n",
    "# ExplorerAgent = Agent(role=\"ExplorerAgent\")\n",
    "# ExplorerTask = Task()\n",
    "\n",
    "# Role, Goal, Backstory, LLm instance, Tool (optional)\n",
    "@tool(\"ExplorerTool\")\n",
    "\n",
    "def ExplorerTool(programName):\n",
    "    \"\"\"Read the user prompt, and form a query to run on blockchain explorer.\"\"\"\n",
    "    if transactionType=\"ZKP\":\n",
    "        callVerifier = True\n",
    "    else:\n",
    "        callVerifier = False\n",
    "             \n",
    "ExplorerAgent = Agent(role=\"queryBuilder\", goal=\"Read the user prompt and create a searchable query\",\n",
    "                      backstory=\"\", tools = [ExplorerTool])\n",
    "ExplorerTask = Task( agent = ExplorerAgent, description = \"Create a query to search on explorer.fidesinnova.io.\", expected_output=\"A query to run on blockchain explorer.\" )"
   ]
  },
  {
   "cell_type": "code",
   "execution_count": null,
   "id": "86a4d06a",
   "metadata": {},
   "outputs": [],
   "source": [
    "# Role, Goal, Backstory, LLm instance, Tool (optional)\n",
    "# SearchTool = tool()\n",
    "# SearchAgent = Agent(role=\"SearchAgent\")\n",
    "# SearchTask = Task()\n",
    "\n",
    "# Role, Goal, Backstory, LLm instance, Tool (optional)\n",
    "@tool(\"SearchTool\")\n",
    "\n",
    "def SearchTool(programName):\n",
    "    \"\"\"Execute the query blockchain explorer.\"\"\"\n",
    "    if transactionType=\"ZKP\":\n",
    "        callVerifier = True\n",
    "    else:\n",
    "        callVerifier = False\n",
    "             \n",
    "ExplorerAgent = Agent(role=\"queryBuilder\", goal=\"Read the user prompt and create a searchable query\",\n",
    "                      backstory=\"\", tools = [SearchTool])\n",
    "SearchTask = Task( agent = SearchAgent, description = \"Create a query to search on explorer.fidesinnova.io.\", expected_output=\"A query to run on blockchain explorer.\" )"
   ]
  },
  {
   "cell_type": "code",
   "execution_count": null,
   "id": "28db4dcf",
   "metadata": {},
   "outputs": [],
   "source": [
    "# Role, Goal, Backstory, LLm instance, Tool (optional)\n",
    "# ZKPVerifierTool = tool()\n",
    "# ZKPVerifierAgent = Agent(role=\"SearchAgent\")\n",
    "# ZKPVerifierTask = Task()\n",
    "\n",
    "# Role, Goal, Backstory, LLm instance, Tool (optional)\n",
    "@tool(\"SearchTool\")\n",
    "\n",
    "def ZKPVerifierTool(programName):\n",
    "    \"\"\"Verify the ZKP record\"\"\"\n",
    "    if transactionType=\"ZKP\":\n",
    "        callVerifier = True\n",
    "    else:\n",
    "        callVerifier = False\n",
    "             \n",
    "ZKPVerifierAgent = Agent(role=\"Verifier\", goal=\"Verify the ZKP record.\",\n",
    "                      backstory=\"\", tools = [ZKPVerifierTool])\n",
    "ZKPVerifierTask = Task( agent = SearchAgent, description = \"Verify the ZKP record suisng verifier program\", expected_output=\"True or False\" )"
   ]
  },
  {
   "cell_type": "code",
   "execution_count": null,
   "id": "857e464a",
   "metadata": {},
   "outputs": [],
   "source": [
    "# Role, Goal, Backstory, LLm instance, Tool (optional)\n",
    "# ResultTool = tool()\n",
    "# ResultAgent = Agent(role=\"SearchAgent\")\n",
    "# ResultTask = Task()\n",
    "\n",
    "# Role, Goal, Backstory, LLm instance, Tool (optional)\n",
    "@tool(\"SearchTool\")\n",
    "\n",
    "def resultTool(programName):\n",
    "    \"\"\"Verify the ZKP record\"\"\"\n",
    "    if transactionType=\"ZKP\":\n",
    "        callVerifier = True\n",
    "    else:\n",
    "        callVerifier = False\n",
    "             \n",
    "ResultAgent = Agent(role=\"explain\", goal=\"Describe the output.\",\n",
    "                      backstory=\"\", tools = [resultTool])\n",
    "ResultTask = Task( agent = ResultAgent, description = \"Describe the output.\", expected_output=\"An explanation about the result.\" )"
   ]
  },
  {
   "cell_type": "code",
   "execution_count": null,
   "id": "5a864302",
   "metadata": {},
   "outputs": [],
   "source": [
    "# Crew = [ExplorerAgent, SearchAgent, ZKPVerifierAgent, ResultAgent]\n",
    "agents = [ExplorerAgent]\n",
    "# Agent, Description, Expected Output   \n",
    "\n",
    "tasks = [ExplorerTask]\n",
    "# Task = [ExplorerTask, SearchTask, ZKPVerifierTask, ResultTask]\n",
    "\n",
    "crew1 = Crew( agents = agents, tasks= tasks, verbose = True)\n",
    "crew1.kickoff()"
   ]
  }
 ],
 "metadata": {
  "kernelspec": {
   "display_name": "Python 3",
   "language": "python",
   "name": "python3"
  },
  "language_info": {
   "codemirror_mode": {
    "name": "ipython",
    "version": 3
   },
   "file_extension": ".py",
   "mimetype": "text/x-python",
   "name": "python",
   "nbconvert_exporter": "python",
   "pygments_lexer": "ipython3",
   "version": "3.10.17"
  }
 },
 "nbformat": 4,
 "nbformat_minor": 5
}
